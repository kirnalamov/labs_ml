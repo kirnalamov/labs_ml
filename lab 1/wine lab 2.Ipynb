{
 "cells": [
  {
   "cell_type": "code",
   "execution_count": 88,
   "metadata": {},
   "outputs": [],
   "source": [
    "import numpy as np\n",
    "import pandas as pd\n",
    "import time\n",
    "from sklearn.decomposition import PCA\n",
    "from sklearn.model_selection import GridSearchCV, cross_val_score, KFold\n",
    "from sklearn.tree import DecisionTreeClassifier\n",
    "from sklearn.ensemble import RandomForestClassifier\n",
    "from sklearn.naive_bayes import GaussianNB\n",
    "from sklearn.svm import SVC\n",
    "from sklearn.neighbors import KNeighborsClassifier\n",
    "from sklearn.model_selection import train_test_split\n",
    "from sklearn.preprocessing import LabelEncoder, StandardScaler\n",
    "from sklearn.pipeline import Pipeline\n",
    "from sklearn.metrics import accuracy_score\n"
   ]
  },
  {
   "cell_type": "code",
   "execution_count": 89,
   "metadata": {},
   "outputs": [],
   "source": [
    "file_path = \"dataset/wine.data\"\n",
    "\n",
    "columns = [\n",
    "    \"Class\", \"Alcohol\", \"Malic acid\", \"Ash\", \"Alcalinity of ash\", \"Magnesium\",\n",
    "    \"Total phenols\", \"Flavanoids\", \"Nonflavanoid phenols\", \"Proanthocyanins\",\n",
    "    \"Color intensity\", \"Hue\", \"OD280/OD315\", \"Proline\"\n",
    "]\n",
    "\n",
    "# Загружаем датасет\n",
    "df = pd.read_csv(file_path, header=None, names=columns)\n",
    "\n",
    "\n",
    "X = df.iloc[:, 1:] \n",
    "y = df.iloc[:, 0]   \n",
    "\n"
   ]
  },
  {
   "cell_type": "code",
   "execution_count": 90,
   "metadata": {},
   "outputs": [],
   "source": [
    "X_train, X_test, y_train, y_test = train_test_split(X, y, test_size=0.3, random_state=42)\n",
    "\n",
    "# Параметры для GridSearch\n",
    "# Param_grid в контексте библиотеки scikit-learn — словарь, задающий сетку параметров для поиска.\n",
    "# Этот параметр используется в инструменте GridSearchCV,\n",
    "# который позволяет выполнять исчерпывающий поиск по\n",
    "# заданным значениям параметров для оценщика.\n",
    "param_grid = {\n",
    "    'DecisionTree': {'classifier__max_depth': [3, 5, 7, 13]},\n",
    "    'RandomForest': {'classifier__n_estimators': [50, 100], 'classifier__max_depth': [5, 10]},\n",
    "    'NaiveBayes': {'classifier__var_smoothing': [1e-9]},\n",
    "    'SVM': {'classifier__C': [0.1, 1, 10], 'classifier__kernel': ['linear', 'rbf']}\n",
    "}\n"
   ]
  },
  {
   "cell_type": "code",
   "execution_count": 91,
   "metadata": {},
   "outputs": [],
   "source": [
    "\n",
    "# Модели и пайплайны\n",
    "models = {\n",
    "    'DecisionTree': Pipeline([('scaler', StandardScaler()), ('classifier', DecisionTreeClassifier())]),\n",
    "    'RandomForest': Pipeline([('scaler', StandardScaler()), ('classifier', RandomForestClassifier())]),\n",
    "    'NaiveBayes': Pipeline([('scaler', StandardScaler()), ('classifier', GaussianNB())]),\n",
    "    'SVM': Pipeline([('scaler', StandardScaler()), ('classifier', SVC())])\n",
    "}\n",
    "\n",
    "\n"
   ]
  },
  {
   "cell_type": "code",
   "execution_count": 92,
   "metadata": {},
   "outputs": [],
   "source": [
    "# Сравнение методов в исходном пространстве\n",
    "results = []\n",
    "for model_name in models:\n",
    "    start = time.time()\n",
    "    grid = GridSearchCV(models[model_name], param_grid[model_name], cv=10)\n",
    "    grid.fit(X_train, y_train)\n",
    "    train_time = time.time() - start\n",
    "\n",
    "    start = time.time()\n",
    "    y_pred = grid.predict(X_test)\n",
    "    predict_time = time.time() - start\n",
    "\n",
    "    results.append({\n",
    "        'Model': model_name,\n",
    "        'Best Params': grid.best_params_,\n",
    "        'Accuracy': accuracy_score(y_test, y_pred),\n",
    "        'Train Time': train_time,\n",
    "        'Predict Time': predict_time\n",
    "    })\n"
   ]
  },
  {
   "cell_type": "code",
   "execution_count": 93,
   "metadata": {},
   "outputs": [
    {
     "name": "stdout",
     "output_type": "stream",
     "text": [
      "Результаты в исходном пространстве:\n",
      "          Model                                                   Best Params  \\\n",
      "0  DecisionTree                                  {'classifier__max_depth': 3}   \n",
      "1  RandomForest  {'classifier__max_depth': 5, 'classifier__n_estimators': 50}   \n",
      "2    NaiveBayes                          {'classifier__var_smoothing': 1e-09}   \n",
      "3           SVM          {'classifier__C': 1, 'classifier__kernel': 'linear'}   \n",
      "\n",
      "   Accuracy  Train Time  Predict Time  \n",
      "0  0.962963    0.198278      0.002301  \n",
      "1  1.000000    2.457509      0.003444  \n",
      "2  1.000000    0.039218      0.001673  \n",
      "3  0.981481    0.215555      0.013025  \n",
      "\n",
      "Результаты с PCA:\n",
      "    Dimension         Model  Accuracy  Train Time  Predict Time\n",
      "0           2  DecisionTree  0.981481    0.103575      0.000000\n",
      "1           2  RandomForest  0.981481    2.269911      0.002006\n",
      "2           2    NaiveBayes  0.981481    0.011958      0.000000\n",
      "3           2           SVM  0.981481    0.142569      0.000000\n",
      "4           5  DecisionTree  0.962963    0.091905      0.000000\n",
      "5           5  RandomForest  0.962963    2.346161      0.001094\n",
      "6           5    NaiveBayes  0.981481    0.023764      0.000784\n",
      "7           5           SVM  0.962963    0.150563      0.000000\n",
      "8          10  DecisionTree  0.962963    0.099862      0.000000\n",
      "9          10  RandomForest  0.962963    2.496679      0.000000\n",
      "10         10    NaiveBayes  1.000000    0.014112      0.000000\n",
      "11         10           SVM  0.981481    0.150354      0.000000\n"
     ]
    }
   ],
   "source": [
    "# Сравнение с разной размерностью через PCA\n",
    "dims = [2,5,10]\n",
    "pca_results = []\n",
    "for dim in dims:\n",
    "    pca = PCA(n_components=dim)\n",
    "    X_pca = pca.fit_transform(StandardScaler().fit_transform(X))\n",
    "    X_train_pca, X_test_pca, y_train_pca, y_test_pca = \\\n",
    "        train_test_split(X_pca, y, test_size=0.3, random_state=42)\n",
    "\n",
    "    for model_name in models:\n",
    "        model = models[model_name]  # Используем весь пайплайн\n",
    "        params = param_grid[model_name]\n",
    "        grid = GridSearchCV(model, params, cv=10)\n",
    "\n",
    "        start = time.time()\n",
    "        grid.fit(X_train_pca, y_train_pca)\n",
    "        train_time = time.time() - start\n",
    "\n",
    "        start = time.time()\n",
    "        y_pred = grid.predict(X_test_pca)\n",
    "        predict_time = time.time() - start\n",
    "\n",
    "        pca_results.append({\n",
    "            'Dimension': dim,\n",
    "            'Model': model_name,\n",
    "            'Accuracy': accuracy_score(y_test_pca, y_pred),\n",
    "            'Train Time': train_time,\n",
    "            'Predict Time': predict_time\n",
    "        })\n",
    "\n",
    "# Вывод результатов\n",
    "pd.set_option('display.max_columns', None)    # Снимаем ограничения с вывода\n",
    "pd.set_option('display.max_colwidth', None)   # Снимаем ограничения с вывода\n",
    "\n",
    "print(\"Результаты в исходном пространстве:\")\n",
    "print(pd.DataFrame(results))\n",
    "\n",
    "print(\"\\nРезультаты с PCA:\")\n",
    "print(pd.DataFrame(pca_results))\n",
    "\n"
   ]
  },
  {
   "cell_type": "code",
   "execution_count": 94,
   "metadata": {},
   "outputs": [],
   "source": [
    "# hyperparam_results_df = pd.DataFrame(hyperparam_results).T\n",
    "# dims = [10,20,30]\n",
    "# pca_results = []\n",
    "# for dim in dims:\n",
    "#     pca = PCA(n_components=dim)\n",
    "#     X_pca = pca.fit_transform(StandardScaler().fit_transform(X))\n",
    "#     X_train_pca, X_test_pca, y_train_pca, y_test_pca = \\\n",
    "#     train_test_split(X_pca, y, test_size = 0.3, random_state = 42)\n",
    "\n",
    "#     for model_name in models:\n",
    "#         model = models[model_name]\n",
    "#         params = param_grid[model_name]\n",
    "#         grid = GridSearchCV(model, params, cv = 10)\n",
    "\n",
    "#         start = time.time()\n",
    "#         grid.fit(X_train_pca, y_train_pca)\n",
    "#         train_time = time.time() - start\n",
    "\n",
    "#         start = time.time()\n",
    "#         y_pred = grid.predict(X_test_pca)\n",
    "#         predict_time = time.time() - start\n",
    "\n",
    "#         pca_results.append({\n",
    "#             'Размерность': dim,\n",
    "#             'Метод': model_name,\n",
    "#             'Точность': accuracy_score(y_test_pca, y_pred),\n",
    "#             'Время': train_time,\n",
    "#             'Предикт': predict_time,\n",
    "#         })"
   ]
  },
  {
   "cell_type": "code",
   "execution_count": null,
   "metadata": {},
   "outputs": [],
   "source": []
  },
  {
   "cell_type": "code",
   "execution_count": null,
   "metadata": {},
   "outputs": [],
   "source": []
  },
  {
   "cell_type": "code",
   "execution_count": null,
   "metadata": {},
   "outputs": [],
   "source": []
  },
  {
   "cell_type": "code",
   "execution_count": null,
   "metadata": {},
   "outputs": [],
   "source": []
  },
  {
   "cell_type": "code",
   "execution_count": null,
   "metadata": {},
   "outputs": [],
   "source": []
  },
  {
   "cell_type": "code",
   "execution_count": null,
   "metadata": {},
   "outputs": [],
   "source": []
  },
  {
   "cell_type": "code",
   "execution_count": null,
   "metadata": {},
   "outputs": [],
   "source": []
  }
 ],
 "metadata": {
  "kernelspec": {
   "display_name": "venv",
   "language": "python",
   "name": "python3"
  },
  "language_info": {
   "codemirror_mode": {
    "name": "ipython",
    "version": 3
   },
   "file_extension": ".py",
   "mimetype": "text/x-python",
   "name": "python",
   "nbconvert_exporter": "python",
   "pygments_lexer": "ipython3",
   "version": "3.12.3"
  }
 },
 "nbformat": 4,
 "nbformat_minor": 2
}
